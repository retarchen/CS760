{
 "cells": [
  {
   "cell_type": "code",
   "execution_count": 272,
   "id": "2d12ecc8",
   "metadata": {},
   "outputs": [],
   "source": [
    "import os\n",
    "import numpy as np\n",
    "import matplotlib.pyplot as plt"
   ]
  },
  {
   "cell_type": "markdown",
   "id": "37d82ad9",
   "metadata": {},
   "source": [
    "# Q3.1"
   ]
  },
  {
   "cell_type": "code",
   "execution_count": 96,
   "id": "6640be08",
   "metadata": {},
   "outputs": [
    {
     "name": "stdout",
     "output_type": "stream",
     "text": [
      "e : 0.3314335192958997\n",
      "j : 0.3133925929173471\n",
      "s : 0.3551738877867532\n"
     ]
    }
   ],
   "source": [
    "def total_char(train_files, ):\n",
    "    total_docs = len(train_files)\n",
    "    total_counts = 0\n",
    "    for files in train_files:\n",
    "        with open(files, 'r', encoding='utf-8') as f:\n",
    "            for line in f:\n",
    "                for char in line:\n",
    "                    if char in 'abcdefghijklmnopqrstuvwxyz ':\n",
    "                        total_counts += 1\n",
    "    return total_counts\n",
    "\n",
    "train_files_e = [f\"languageID/e{i}.txt\" for i in range(10)]\n",
    "train_files_j = [f\"languageID/j{i}.txt\" for i in range(10)]\n",
    "train_files_s = [f\"languageID/s{i}.txt\" for i in range(10)]\n",
    "\n",
    "\n",
    "alpha = 0.5\n",
    "languages = ['e', 'j', 's']\n",
    "counts=np.array([total_char(train_files_e),total_char(train_files_j),total_char(train_files_s)])\n",
    "\n",
    "for i in range(len(languages)):\n",
    "    c=(counts[i] + alpha) / (sum(counts) + alpha * len(languages))\n",
    "    print(languages[i],':',c)\n",
    "    \n",
    "counts=np.log(counts)"
   ]
  },
  {
   "cell_type": "markdown",
   "id": "0ecb94de",
   "metadata": {},
   "source": [
    "# Q3.2"
   ]
  },
  {
   "cell_type": "code",
   "execution_count": 154,
   "id": "67575674",
   "metadata": {},
   "outputs": [
    {
     "name": "stdout",
     "output_type": "stream",
     "text": [
      "Theta for English: ['0.06017', '0.01113', '0.02151', '0.02197', '0.10537', '0.01893', '0.01748', '0.04722', '0.05541', '0.00142', '0.00373', '0.02898', '0.02052', '0.05792', '0.06446', '0.01675', '0.00056', '0.05382', '0.06618', '0.08013', '0.02666', '0.00928', '0.01550', '0.00116', '0.01384', '0.00063', '0.17925']\n"
     ]
    }
   ],
   "source": [
    "def char_to_index(ch):\n",
    "    if ch == ' ':\n",
    "        return 26\n",
    "    return ord(ch) - ord('a')\n",
    "\n",
    "def conditional_probability(train_files, prob=True ):\n",
    "    total_docs = len(train_files)\n",
    "    char_counts = np.zeros( 27,dtype='int')\n",
    "    for i in range(len(train_files)):\n",
    "        files=train_files[i]\n",
    "        with open(files, 'r', encoding='utf-8') as f:\n",
    "            for line in f:\n",
    "                for char in line:\n",
    "                    if char in 'abcdefghijklmnopqrstuvwxyz ':\n",
    "                        char_index = char_to_index(char)\n",
    "                        char_counts[char_index] += 1\n",
    "    alpha=0.5\n",
    "    V = 27  \n",
    "    if prob:\n",
    "        total_english_chars = np.sum(char_counts)\n",
    "        theta_e = (char_counts + alpha) / (total_english_chars + alpha * V)\n",
    "\n",
    "        return theta_e\n",
    "    else:\n",
    "        return char_counts\n",
    "\n",
    "train_files = [f\"languageID/e{i}.txt\" for i in range(10)]\n",
    "theta_e = np.log(conditional_probability(train_files))\n",
    "\n",
    "print(\"Theta for English:\", ['{:.5f}'.format(p) for p in np.exp(theta_e)])"
   ]
  },
  {
   "cell_type": "markdown",
   "id": "775fc079",
   "metadata": {},
   "source": [
    "# Q3.3"
   ]
  },
  {
   "cell_type": "code",
   "execution_count": 155,
   "id": "e206bcc7",
   "metadata": {},
   "outputs": [
    {
     "name": "stdout",
     "output_type": "stream",
     "text": [
      "Theta for Japanese: ['0.13177', '0.01087', '0.00549', '0.01723', '0.06020', '0.00388', '0.01401', '0.03176', '0.09703', '0.00234', '0.05741', '0.00143', '0.03980', '0.05671', '0.09116', '0.00087', '0.00010', '0.04280', '0.04217', '0.05699', '0.07062', '0.00024', '0.01974', '0.00003', '0.01415', '0.00772', '0.12345']\n"
     ]
    }
   ],
   "source": [
    "train_files = [f\"languageID/j{i}.txt\" for i in range(10)]\n",
    "theta_j = np.log(conditional_probability(train_files))\n",
    "\n",
    "print(\"Theta for Japanese:\", ['{:.5f}'.format(p) for p in np.exp(theta_j)])"
   ]
  },
  {
   "cell_type": "code",
   "execution_count": 156,
   "id": "9afd4187",
   "metadata": {},
   "outputs": [
    {
     "name": "stdout",
     "output_type": "stream",
     "text": [
      "Theta for Spanish: ['0.10456', '0.00823', '0.03753', '0.03975', '0.11381', '0.00860', '0.00718', '0.00453', '0.04986', '0.00663', '0.00028', '0.05294', '0.02581', '0.05418', '0.07249', '0.02427', '0.00768', '0.05930', '0.06577', '0.03561', '0.03370', '0.00589', '0.00009', '0.00250', '0.00786', '0.00268', '0.16826']\n"
     ]
    }
   ],
   "source": [
    "train_files = [f\"languageID/s{i}.txt\" for i in range(10)]\n",
    "theta_s = np.log(conditional_probability(train_files))\n",
    "\n",
    "print(\"Theta for Spanish:\", ['{:.5f}'.format(p) for p in np.exp(theta_s)])"
   ]
  },
  {
   "cell_type": "markdown",
   "id": "c5443ca8",
   "metadata": {},
   "source": [
    "# Q3.4"
   ]
  },
  {
   "cell_type": "code",
   "execution_count": 157,
   "id": "a2eac7d0",
   "metadata": {},
   "outputs": [
    {
     "name": "stdout",
     "output_type": "stream",
     "text": [
      "Bag-of-words vector for e10.txt:\n",
      "a: 164, b: 32, c: 53, d: 57, e: 311, f: 55, g: 51, h: 140, i: 140, j: 3, k: 6, l: 85, m: 64, n: 139, o: 182, p: 53, q: 3, r: 141, s: 186, t: 225, u: 65, v: 31, w: 47, x: 4, y: 38, z: 2,  : 498, "
     ]
    }
   ],
   "source": [
    "test_file = [\"languageID/e10.txt\"]\n",
    "bow_vector = conditional_probability(test_file, prob=False )\n",
    "\n",
    "print(\"Bag-of-words vector for e10.txt:\")\n",
    "for i,char in enumerate('abcdefghijklmnopqrstuvwxyz '):\n",
    "    print(f\"{char}: {bow_vector[i]}\",end=\", \")\n"
   ]
  },
  {
   "cell_type": "markdown",
   "id": "7a103faf",
   "metadata": {},
   "source": [
    "# Q3.5"
   ]
  },
  {
   "cell_type": "code",
   "execution_count": 158,
   "id": "1428fb52",
   "metadata": {},
   "outputs": [
    {
     "name": "stdout",
     "output_type": "stream",
     "text": [
      "[-7841.865447060635, -8771.433079075032, -8467.282044010557]\n"
     ]
    }
   ],
   "source": [
    "theta=np.array([theta_e,theta_j,theta_s])\n",
    "likelihood=[]\n",
    "for i in range(len(languages)):\n",
    "    likelihood.append(sum(bow_vector*theta[i]))\n",
    "print(likelihood)"
   ]
  },
  {
   "cell_type": "markdown",
   "id": "ba422cab",
   "metadata": {},
   "source": [
    "# Q3.6"
   ]
  },
  {
   "cell_type": "code",
   "execution_count": 159,
   "id": "d8ee2a85",
   "metadata": {},
   "outputs": [
    {
     "data": {
      "text/plain": [
       "array([-7832.24173955, -8761.86534402, -8457.58915404])"
      ]
     },
     "execution_count": 159,
     "metadata": {},
     "output_type": "execute_result"
    }
   ],
   "source": [
    "likelihood+counts"
   ]
  },
  {
   "cell_type": "markdown",
   "id": "6cef77ab",
   "metadata": {},
   "source": [
    "# Q3.7"
   ]
  },
  {
   "cell_type": "code",
   "execution_count": 160,
   "id": "a617fc9a",
   "metadata": {},
   "outputs": [],
   "source": [
    "def predict(file):\n",
    "    bow_vector = conditional_probability(file, prob=False )\n",
    "    likelihood=[]\n",
    "    for i in range(len(languages)):\n",
    "        likelihood.append(sum(bow_vector*theta[i]))\n",
    "    p=np.argmax(likelihood+counts)\n",
    "    return languages[p]\n",
    "    "
   ]
  },
  {
   "cell_type": "code",
   "execution_count": 176,
   "id": "d6664267",
   "metadata": {},
   "outputs": [
    {
     "data": {
      "text/plain": [
       "Text(0, 0.5, 'Predicted Label')"
      ]
     },
     "execution_count": 176,
     "metadata": {},
     "output_type": "execute_result"
    },
    {
     "data": {
      "image/png": "[encoded data removed]",
      "text/plain": [
       "<Figure size 432x288 with 2 Axes>"
      ]
     },
     "metadata": {
      "needs_background": "light"
     },
     "output_type": "display_data"
    }
   ],
   "source": [
    "from sklearn.metrics import confusion_matrix, ConfusionMatrixDisplay\n",
    "test_files = np.array([\n",
    "    [f\"languageID/e{i}.txt\" for i in range(10, 20)],\n",
    "    [f\"languageID/j{i}.txt\" for i in range(10, 20)],\n",
    "    [f\"languageID/s{i}.txt\" for i in range(10, 20)]]).flatten()\n",
    "\n",
    "predict_lab=[]\n",
    "true_lab= np.array([\n",
    "    [f\"e\" for i in range(10, 20)],\n",
    "    [f\"j\" for i in range(10, 20)],\n",
    "    [f\"s\" for i in range(10, 20)]]).flatten()\n",
    "for i in range(len(test_files)):\n",
    "    predict_lab.append(predict([test_files[i]]))\n",
    "\n",
    "cm = confusion_matrix(true_lab, predict_lab, labels=[\"e\", \"j\", \"s\"]).T\n",
    "disp = ConfusionMatrixDisplay(confusion_matrix=cm, display_labels=[\"English\", \"Japanese\", \"Spanish\"])\n",
    "plot = disp.plot()\n",
    "plot.ax_.set_xlabel('True Label')\n",
    "plot.ax_.set_ylabel('Predicted Label')"
   ]
  },
  {
   "cell_type": "markdown",
   "id": "d91572e4",
   "metadata": {},
   "source": [
    "# Q4.2"
   ]
  },
  {
   "cell_type": "code",
   "execution_count": 236,
   "id": "8d84e839",
   "metadata": {},
   "outputs": [],
   "source": [
    "# installing  pip install Pillow==9.0.0  \n",
    "#pip3 install functorch "
   ]
  },
  {
   "cell_type": "code",
   "execution_count": 238,
   "id": "4cd0f14f",
   "metadata": {
    "scrolled": false
   },
   "outputs": [
    {
     "name": "stdout",
     "output_type": "stream",
     "text": [
      "Downloading http://yann.lecun.com/exdb/mnist/train-images-idx3-ubyte.gz\n",
      "Downloading http://yann.lecun.com/exdb/mnist/train-images-idx3-ubyte.gz to MNIST_data/MNIST/raw/train-images-idx3-ubyte.gz\n"
     ]
    },
    {
     "name": "stderr",
     "output_type": "stream",
     "text": [
      "100%|███████████████████████████████████████████████████████| 9912422/9912422 [00:00<00:00, 63038392.86it/s]\n"
     ]
    },
    {
     "name": "stdout",
     "output_type": "stream",
     "text": [
      "Extracting MNIST_data/MNIST/raw/train-images-idx3-ubyte.gz to MNIST_data/MNIST/raw\n",
      "\n",
      "Downloading http://yann.lecun.com/exdb/mnist/train-labels-idx1-ubyte.gz\n",
      "Downloading http://yann.lecun.com/exdb/mnist/train-labels-idx1-ubyte.gz to MNIST_data/MNIST/raw/train-labels-idx1-ubyte.gz\n"
     ]
    },
    {
     "name": "stderr",
     "output_type": "stream",
     "text": [
      "100%|███████████████████████████████████████████████████████████| 28881/28881 [00:00<00:00, 16125624.84it/s]"
     ]
    },
    {
     "name": "stdout",
     "output_type": "stream",
     "text": [
      "Extracting MNIST_data/MNIST/raw/train-labels-idx1-ubyte.gz to MNIST_data/MNIST/raw\n",
      "\n",
      "Downloading http://yann.lecun.com/exdb/mnist/t10k-images-idx3-ubyte.gz\n",
      "Downloading http://yann.lecun.com/exdb/mnist/t10k-images-idx3-ubyte.gz to MNIST_data/MNIST/raw/t10k-images-idx3-ubyte.gz\n"
     ]
    },
    {
     "name": "stderr",
     "output_type": "stream",
     "text": [
      "\n",
      "100%|███████████████████████████████████████████████████████| 1648877/1648877 [00:00<00:00, 53009959.81it/s]\n"
     ]
    },
    {
     "name": "stdout",
     "output_type": "stream",
     "text": [
      "Extracting MNIST_data/MNIST/raw/t10k-images-idx3-ubyte.gz to MNIST_data/MNIST/raw\n",
      "\n",
      "Downloading http://yann.lecun.com/exdb/mnist/t10k-labels-idx1-ubyte.gz\n",
      "Downloading http://yann.lecun.com/exdb/mnist/t10k-labels-idx1-ubyte.gz to MNIST_data/MNIST/raw/t10k-labels-idx1-ubyte.gz\n"
     ]
    },
    {
     "name": "stderr",
     "output_type": "stream",
     "text": [
      "100%|██████████████████████████████████████████████████████████████| 4542/4542 [00:00<00:00, 7151099.39it/s]\n"
     ]
    },
    {
     "name": "stdout",
     "output_type": "stream",
     "text": [
      "Extracting MNIST_data/MNIST/raw/t10k-labels-idx1-ubyte.gz to MNIST_data/MNIST/raw\n",
      "\n"
     ]
    }
   ],
   "source": [
    "import torch\n",
    "from torchvision import datasets, transforms\n",
    "\n",
    "transform = transforms.Compose([transforms.ToTensor(),\n",
    "                                transforms.Normalize((0.5,), (0.5,))])\n",
    "\n",
    "trainset = datasets.MNIST('MNIST_data/', download=True, train=True, transform=transform)\n",
    "trainloader = torch.utils.data.DataLoader(trainset, batch_size=64, shuffle=True)\n",
    "\n",
    "testset = datasets.MNIST('MNIST_data/', download=True, train=False, transform=transform)\n",
    "testloader = torch.utils.data.DataLoader(testset, batch_size=64, shuffle=True)\n"
   ]
  },
  {
   "cell_type": "code",
   "execution_count": 322,
   "id": "eb035a72",
   "metadata": {},
   "outputs": [
    {
     "name": "stdout",
     "output_type": "stream",
     "text": [
      "Epoch 1/10, Loss: 1.9215\n",
      "Epoch 2/10, Loss: 1.0270\n",
      "Epoch 3/10, Loss: 0.5941\n",
      "Epoch 4/10, Loss: 0.7074\n",
      "Epoch 5/10, Loss: 0.4063\n",
      "Epoch 6/10, Loss: 0.4475\n",
      "Epoch 7/10, Loss: 0.3593\n",
      "Epoch 8/10, Loss: 0.2053\n",
      "Epoch 9/10, Loss: 0.2413\n",
      "Epoch 10/10, Loss: 0.1206\n",
      "Avearge test Loss: 0.3541280058342722\n"
     ]
    },
    {
     "data": {
      "image/png": "[encoded data removed]",
      "text/plain": [
       "<Figure size 864x360 with 1 Axes>"
      ]
     },
     "metadata": {
      "needs_background": "light"
     },
     "output_type": "display_data"
    }
   ],
   "source": [
    "d = 28 * 28  \n",
    "d1 = 300  \n",
    "k = 10  \n",
    "learning_rate = 0.008\n",
    "epochs = 10\n",
    "\n",
    "np.random.seed(42)\n",
    "W1 = np.random.randn(d1, d) * 0.01\n",
    "W2 = np.random.randn(k, d1) * 0.01\n",
    "\n",
    "def sigmoid(z):\n",
    "    return 1 / (1 + np.exp(-z))\n",
    "\n",
    "def softmax(z):\n",
    "    e_z = np.exp(z - np.max(z, axis=-1, keepdims=True))\n",
    "    return e_z / e_z.sum(axis=-1, keepdims=True)\n",
    "\n",
    "losses = []\n",
    "accuracies = []\n",
    "for epoch in range(epochs):\n",
    "    for images, labels in trainloader:\n",
    "        X_batch = images.view(-1, 28 * 28).numpy()\n",
    "        y_batch = np.eye(k)[labels.numpy()]\n",
    "\n",
    "        # Forward pass\n",
    "        z1 = np.dot(W1, X_batch.T)\n",
    "        h = sigmoid(z1)\n",
    "        z2 = np.dot(W2, h)\n",
    "        y_hat = softmax(z2.T)\n",
    "\n",
    "        # Backward pass\n",
    "        dz2 = y_hat - y_batch\n",
    "        dW2 = np.dot(dz2.T, h.T) / X_batch.shape[0]\n",
    "        dh = np.dot(dz2, W2)\n",
    "        dz1 = dh * h.T * (1 - h.T)  # Transpose h to match the shape of dh\n",
    "        dW1 = np.dot(dz1.T, X_batch) / X_batch.shape[0]\n",
    "\n",
    "        # Update weights\n",
    "        W1 -= learning_rate * dW1\n",
    "        W2 -= learning_rate * dW2\n",
    "\n",
    "    # Compute loss and accuracy for this epoch\n",
    "    z1 = np.dot(W1, X_batch.T)\n",
    "    h = sigmoid(z1)\n",
    "    z2 = np.dot(W2, h)\n",
    "    y_hat = softmax(z2.T)\n",
    "    loss = -np.mean(np.sum(y_batch * np.log(y_hat), axis=1))\n",
    "    losses.append(loss)\n",
    "    \n",
    "    print(f'Epoch {epoch+1}/{epochs}, Loss: {loss:.4f}')\n",
    "\n",
    "# Evaluate on test set\n",
    "test_losses = []\n",
    "for images, labels in testloader:\n",
    "    X_batch = images.view(-1, 28 * 28).numpy()\n",
    "    y_batch = np.eye(k)[labels.numpy()]\n",
    "\n",
    "    z1 = np.dot(W1, X_batch.T)\n",
    "    h = sigmoid(z1)\n",
    "    z2 = np.dot(W2, h)\n",
    "    y_hat = softmax(z2.T)\n",
    "\n",
    "    loss = -np.mean(np.sum(y_batch * np.log(y_hat), axis=1))\n",
    "    test_losses.append(loss)\n",
    "\n",
    "print('Avearge test Loss:',np.mean(test_losses))\n",
    "\n",
    "# Plotting\n",
    "plt.figure(figsize=(12, 5))\n",
    "\n",
    "plt.subplot(1, 2, 1)\n",
    "plt.plot(losses)\n",
    "plt.title('Loss Curve')\n",
    "plt.xlabel('Epochs')\n",
    "plt.ylabel('Loss')\n",
    "\n",
    "plt.tight_layout()\n",
    "plt.show()"
   ]
  },
  {
   "cell_type": "markdown",
   "id": "fc15977b",
   "metadata": {},
   "source": [
    "# Q4.3"
   ]
  },
  {
   "cell_type": "code",
   "execution_count": 311,
   "id": "ccfbf283",
   "metadata": {},
   "outputs": [
    {
     "name": "stdout",
     "output_type": "stream",
     "text": [
      "Epoch 1/10, Loss: 1.8243\n",
      "Epoch 2/10, Loss: 0.9638\n",
      "Epoch 3/10, Loss: 0.6514\n",
      "Epoch 4/10, Loss: 0.5298\n",
      "Epoch 5/10, Loss: 0.4663\n",
      "Epoch 6/10, Loss: 0.4276\n",
      "Epoch 7/10, Loss: 0.4015\n",
      "Epoch 8/10, Loss: 0.3819\n",
      "Epoch 9/10, Loss: 0.3670\n",
      "Epoch 10/10, Loss: 0.3553\n",
      "Avearge test Loss: 0.3350523856415111\n"
     ]
    },
    {
     "data": {
      "image/png": "[encoded data removed]",
      "text/plain": [
       "<Figure size 864x360 with 1 Axes>"
      ]
     },
     "metadata": {
      "needs_background": "light"
     },
     "output_type": "display_data"
    }
   ],
   "source": [
    "import torch\n",
    "import torch.nn as nn\n",
    "import torch.optim as optim\n",
    "\n",
    "class SimpleNN(nn.Module):\n",
    "    def __init__(self):\n",
    "        super(SimpleNN, self).__init__()\n",
    "        self.fc1 = nn.Linear(28*28, 300)\n",
    "        self.fc2 = nn.Linear(300, 10)\n",
    "        self.sigmoid = nn.Sigmoid()\n",
    "        self.softmax = nn.LogSoftmax(dim=1)\n",
    "\n",
    "    def forward(self, x):\n",
    "        x = x.view(-1, 28*28)\n",
    "        x = self.fc1(x)\n",
    "        x = self.sigmoid(x)\n",
    "        x = self.fc2(x)\n",
    "        x = self.softmax(x)\n",
    "        return x\n",
    "\n",
    "# Initialize the model, loss function, and optimizer\n",
    "model = SimpleNN()\n",
    "criterion = nn.NLLLoss()\n",
    "optimizer = optim.SGD(model.parameters(), lr=0.008)\n",
    "\n",
    "# Training the model\n",
    "epochs = 10\n",
    "train_losses = []\n",
    "for epoch in range(epochs):\n",
    "    running_loss = 0\n",
    "    for images, labels in trainloader:\n",
    "        optimizer.zero_grad()\n",
    "        outputs = model(images)\n",
    "        loss = criterion(outputs, labels)\n",
    "        loss.backward()\n",
    "        optimizer.step()\n",
    "        \n",
    "        running_loss += loss.item()\n",
    "\n",
    "    train_losses.append(running_loss / len(trainloader))\n",
    "    print(f'Epoch {epoch+1}/{epochs}, Loss: {running_loss/len(trainloader):.4f}')\n",
    "\n",
    "# Evaluate the model on the test set\n",
    "model.eval()\n",
    "test_loss = 0\n",
    "with torch.no_grad():\n",
    "    for images, labels in testloader:\n",
    "        outputs = model(images)\n",
    "        loss = criterion(outputs, labels)\n",
    "        test_loss += loss.item()\n",
    "\n",
    "print('Avearge test Loss:', test_loss / len(testloader))\n",
    "\n",
    "# Plotting\n",
    "plt.figure(figsize=(12, 5))\n",
    "\n",
    "plt.subplot(1, 2, 1)\n",
    "plt.plot(train_losses)\n",
    "plt.title('Loss Curve')\n",
    "plt.xlabel('Epochs')\n",
    "plt.ylabel('Loss')\n",
    "\n",
    "plt.tight_layout()\n",
    "plt.show()\n"
   ]
  },
  {
   "cell_type": "markdown",
   "id": "fc518e0e",
   "metadata": {},
   "source": [
    "# 4.4"
   ]
  },
  {
   "cell_type": "markdown",
   "id": "4dc6614f",
   "metadata": {},
   "source": [
    "## a)"
   ]
  },
  {
   "cell_type": "code",
   "execution_count": 319,
   "id": "29d90094",
   "metadata": {},
   "outputs": [
    {
     "name": "stdout",
     "output_type": "stream",
     "text": [
      "Initial W1: tensor([[0., 0., 0.,  ..., 0., 0., 0.],\n",
      "        [0., 0., 0.,  ..., 0., 0., 0.],\n",
      "        [0., 0., 0.,  ..., 0., 0., 0.],\n",
      "        ...,\n",
      "        [0., 0., 0.,  ..., 0., 0., 0.],\n",
      "        [0., 0., 0.,  ..., 0., 0., 0.],\n",
      "        [0., 0., 0.,  ..., 0., 0., 0.]])\n",
      "Initial W2: tensor([[0., 0., 0.,  ..., 0., 0., 0.],\n",
      "        [0., 0., 0.,  ..., 0., 0., 0.],\n",
      "        [0., 0., 0.,  ..., 0., 0., 0.],\n",
      "        ...,\n",
      "        [0., 0., 0.,  ..., 0., 0., 0.],\n",
      "        [0., 0., 0.,  ..., 0., 0., 0.],\n",
      "        [0., 0., 0.,  ..., 0., 0., 0.]])\n",
      "Epoch 1/10, Loss: 2.3033\n",
      "Epoch 2/10, Loss: 2.3031\n",
      "Epoch 3/10, Loss: 2.3032\n",
      "Epoch 4/10, Loss: 2.3026\n",
      "Epoch 5/10, Loss: 2.3018\n",
      "Epoch 6/10, Loss: 2.2917\n",
      "Epoch 7/10, Loss: 2.1231\n",
      "Epoch 8/10, Loss: 1.8556\n",
      "Epoch 9/10, Loss: 1.5944\n",
      "Epoch 10/10, Loss: 1.3401\n",
      "Avearge test Loss: 1.2446870982267295\n"
     ]
    },
    {
     "data": {
      "image/png": "[encoded data removed]",
      "text/plain": [
       "<Figure size 864x360 with 1 Axes>"
      ]
     },
     "metadata": {
      "needs_background": "light"
     },
     "output_type": "display_data"
    }
   ],
   "source": [
    "import torch\n",
    "import torch.nn as nn\n",
    "import torch.optim as optim\n",
    "\n",
    "class SimpleNN(nn.Module):\n",
    "    def __init__(self):\n",
    "        super(SimpleNN, self).__init__()\n",
    "        self.fc1 = nn.Linear(28*28, 300)\n",
    "        self.fc2 = nn.Linear(300, 10)\n",
    "        self.sigmoid = nn.Sigmoid()\n",
    "        self.softmax = nn.LogSoftmax(dim=1)\n",
    "        nn.init.zeros_(self.fc1.weight)\n",
    "        nn.init.zeros_(self.fc2.weight)\n",
    "\n",
    "    def forward(self, x):\n",
    "        x = x.view(-1, 28*28)\n",
    "        x = self.fc1(x)\n",
    "        x = self.sigmoid(x)\n",
    "        x = self.fc2(x)\n",
    "        x = self.softmax(x)\n",
    "        return x\n",
    "\n",
    "# Initialize the model, loss function, and optimizer\n",
    "model = SimpleNN()\n",
    "print(\"Initial W1:\", model.fc1.weight.data)\n",
    "print(\"Initial W2:\", model.fc2.weight.data)\n",
    "criterion = nn.NLLLoss()\n",
    "optimizer = optim.SGD(model.parameters(), lr=0.008)\n",
    "\n",
    "# Training the model\n",
    "epochs = 10\n",
    "train_losses0 = []\n",
    "for epoch in range(epochs):\n",
    "    running_loss = 0\n",
    "    for images, labels in trainloader:\n",
    "        optimizer.zero_grad()\n",
    "        outputs = model(images)\n",
    "        loss = criterion(outputs, labels)\n",
    "        loss.backward()\n",
    "        optimizer.step()\n",
    "        \n",
    "        running_loss += loss.item()\n",
    "\n",
    "    train_losses0.append(running_loss / len(trainloader))\n",
    "    print(f'Epoch {epoch+1}/{epochs}, Loss: {running_loss/len(trainloader):.4f}')\n",
    "\n",
    "# Evaluate the model on the test set\n",
    "model.eval()\n",
    "test_loss = 0\n",
    "with torch.no_grad():\n",
    "    for images, labels in testloader:\n",
    "        outputs = model(images)\n",
    "        loss = criterion(outputs, labels)\n",
    "        test_loss += loss.item()\n",
    "\n",
    "print('Avearge test Loss:', test_loss / len(testloader))\n",
    "\n",
    "# Plotting\n",
    "plt.figure(figsize=(12, 5))\n",
    "\n",
    "plt.subplot(1, 2, 1)\n",
    "plt.plot(train_losses0)\n",
    "plt.title('Loss Curve')\n",
    "plt.xlabel('Epochs')\n",
    "plt.ylabel('Loss')\n",
    "\n",
    "plt.tight_layout()\n",
    "plt.show()\n"
   ]
  },
  {
   "cell_type": "markdown",
   "id": "17ef9b10",
   "metadata": {},
   "source": [
    "## b)"
   ]
  },
  {
   "cell_type": "code",
   "execution_count": 320,
   "id": "0f4d4903",
   "metadata": {},
   "outputs": [
    {
     "name": "stdout",
     "output_type": "stream",
     "text": [
      "Initial W1: tensor([[ 0.6856, -0.5065, -0.6712,  ..., -0.7620,  0.7769,  0.9063],\n",
      "        [ 0.7130,  0.9305, -0.7645,  ...,  0.9206, -0.5757,  0.6942],\n",
      "        [-0.6219,  0.1091, -0.4413,  ...,  0.0624,  0.0491,  0.3404],\n",
      "        ...,\n",
      "        [-0.7169, -0.1352,  0.6583,  ...,  0.5451, -0.3535,  0.5189],\n",
      "        [ 0.8476, -0.4662,  0.3118,  ..., -0.2647,  0.8110,  0.1925],\n",
      "        [-0.6550, -0.0896, -0.1205,  ...,  0.0261,  0.9596, -0.6494]])\n",
      "Initial W2: tensor([[ 0.0970, -0.5642, -0.0389,  ..., -0.9505,  0.7602, -0.4898],\n",
      "        [-0.5323,  0.4166, -0.0654,  ..., -0.6380, -0.0271,  0.0897],\n",
      "        [-0.2938,  0.2047,  0.5879,  ...,  0.5390,  0.0137, -0.3890],\n",
      "        ...,\n",
      "        [-0.6784,  0.0111,  0.8304,  ..., -0.2172, -0.8576,  0.3824],\n",
      "        [ 0.5838,  0.3433,  0.3706,  ..., -0.6360, -0.9898, -0.3635],\n",
      "        [ 0.8005, -0.3154,  0.2979,  ...,  0.3704,  0.1702, -0.0550]])\n",
      "Epoch 1/10, Loss: 2.7797\n",
      "Epoch 2/10, Loss: 1.1502\n",
      "Epoch 3/10, Loss: 0.8878\n",
      "Epoch 4/10, Loss: 0.7635\n",
      "Epoch 5/10, Loss: 0.6856\n",
      "Epoch 6/10, Loss: 0.6309\n",
      "Epoch 7/10, Loss: 0.5893\n",
      "Epoch 8/10, Loss: 0.5569\n",
      "Epoch 9/10, Loss: 0.5297\n",
      "Epoch 10/10, Loss: 0.5069\n",
      "Avearge test Loss: 0.4885012573876958\n"
     ]
    },
    {
     "data": {
      "image/png": "[encoded data removed]",
      "text/plain": [
       "<Figure size 864x360 with 1 Axes>"
      ]
     },
     "metadata": {
      "needs_background": "light"
     },
     "output_type": "display_data"
    }
   ],
   "source": [
    "import torch\n",
    "import torch.nn as nn\n",
    "import torch.optim as optim\n",
    "\n",
    "class SimpleNN(nn.Module):\n",
    "    def __init__(self):\n",
    "        super(SimpleNN, self).__init__()\n",
    "        self.fc1 = nn.Linear(28*28, 300)\n",
    "        self.fc2 = nn.Linear(300, 10)\n",
    "        self.sigmoid = nn.Sigmoid()\n",
    "        self.softmax = nn.LogSoftmax(dim=1)\n",
    "        nn.init.uniform_(self.fc1.weight, -1, 1)\n",
    "        nn.init.uniform_(self.fc2.weight, -1, 1)\n",
    "\n",
    "    def forward(self, x):\n",
    "        x = x.view(-1, 28*28)\n",
    "        x = self.fc1(x)\n",
    "        x = self.sigmoid(x)\n",
    "        x = self.fc2(x)\n",
    "        x = self.softmax(x)\n",
    "        return x\n",
    "\n",
    "# Initialize the model, loss function, and optimizer\n",
    "model = SimpleNN()\n",
    "print(\"Initial W1:\", model.fc1.weight.data)\n",
    "print(\"Initial W2:\", model.fc2.weight.data)\n",
    "criterion = nn.NLLLoss()\n",
    "optimizer = optim.SGD(model.parameters(), lr=0.008)\n",
    "\n",
    "# Training the model\n",
    "epochs = 10\n",
    "train_losses_ran = []\n",
    "for epoch in range(epochs):\n",
    "    running_loss = 0\n",
    "    for images, labels in trainloader:\n",
    "        optimizer.zero_grad()\n",
    "        outputs = model(images)\n",
    "        loss = criterion(outputs, labels)\n",
    "        loss.backward()\n",
    "        optimizer.step()\n",
    "        \n",
    "        running_loss += loss.item()\n",
    "\n",
    "    train_losses_ran.append(running_loss / len(trainloader))\n",
    "    print(f'Epoch {epoch+1}/{epochs}, Loss: {running_loss/len(trainloader):.4f}')\n",
    "\n",
    "# Evaluate the model on the test set\n",
    "model.eval()\n",
    "test_loss = 0\n",
    "with torch.no_grad():\n",
    "    for images, labels in testloader:\n",
    "        outputs = model(images)\n",
    "        loss = criterion(outputs, labels)\n",
    "        test_loss += loss.item()\n",
    "\n",
    "print('Avearge test Loss:', test_loss / len(testloader))\n",
    "\n",
    "# Plotting\n",
    "plt.figure(figsize=(12, 5))\n",
    "\n",
    "plt.subplot(1, 2, 1)\n",
    "plt.plot(train_losses_ran)\n",
    "plt.title('Loss Curve')\n",
    "plt.xlabel('Epochs')\n",
    "plt.ylabel('Loss')\n",
    "\n",
    "plt.tight_layout()\n",
    "plt.show()\n"
   ]
  },
  {
   "cell_type": "code",
   "execution_count": 321,
   "id": "3e574893",
   "metadata": {},
   "outputs": [
    {
     "data": {
      "image/png": "[encoded data removed]",
      "text/plain": [
       "<Figure size 864x360 with 1 Axes>"
      ]
     },
     "metadata": {
      "needs_background": "light"
     },
     "output_type": "display_data"
    }
   ],
   "source": [
    "# Plotting\n",
    "plt.figure(figsize=(12, 5))\n",
    "\n",
    "plt.subplot(1, 2, 1)\n",
    "plt.plot(train_losses0,label='initial w=0')\n",
    "plt.plot(train_losses_ran,label='initial w={-1,1}')\n",
    "plt.title('Loss Curve')\n",
    "plt.xlabel('Epochs')\n",
    "plt.ylabel('Loss')\n",
    "plt.legend()\n",
    "plt.tight_layout()\n",
    "plt.show()"
   ]
  },
  {
   "cell_type": "code",
   "execution_count": null,
   "id": "ace03a12",
   "metadata": {},
   "outputs": [],
   "source": []
  },
  {
   "cell_type": "markdown",
   "id": "0b79adc7",
   "metadata": {},
   "source": [
    "# test"
   ]
  },
  {
   "cell_type": "code",
   "execution_count": 288,
   "id": "0cdd81e0",
   "metadata": {},
   "outputs": [
    {
     "name": "stdout",
     "output_type": "stream",
     "text": [
      "torch.Size([64, 1, 28, 28])\n"
     ]
    },
    {
     "data": {
      "image/png": "[encoded data removed]",
      "text/plain": [
       "<Figure size 864x288 with 5 Axes>"
      ]
     },
     "metadata": {
      "needs_background": "light"
     },
     "output_type": "display_data"
    }
   ],
   "source": [
    "\n",
    "def imshow(image, ax=None, title=None, normalize=True):\n",
    "    \"\"\"Imshow for Tensor.\"\"\"\n",
    "    if ax is None:\n",
    "        fig, ax = plt.subplots()\n",
    "    image = image.numpy().transpose((1, 2, 0))\n",
    "\n",
    "    if normalize:\n",
    "        mean = np.array([0.5])\n",
    "        std = np.array([0.5])\n",
    "        image = std * image + mean\n",
    "        image = np.clip(image, 0, 1)\n",
    "\n",
    "    ax.imshow(image)\n",
    "    ax.spines['top'].set_visible(False)\n",
    "    ax.spines['right'].set_visible(False)\n",
    "    ax.spines['left'].set_visible(False)\n",
    "    ax.spines['bottom'].set_visible(False)\n",
    "    ax.tick_params(axis='both', length=0)\n",
    "    ax.set_xticklabels('')\n",
    "    ax.set_yticklabels('')\n",
    "\n",
    "    return ax\n",
    "\n",
    "# Get one batch of training images\n",
    "# Get one batch of training images\n",
    "dataiter = iter(testloader)\n",
    "images, labels = next(dataiter)  # Use next function here\n",
    "print(images.shape)\n",
    "images = images[:5]\n",
    "\n",
    "# Show images\n",
    "fig, axes = plt.subplots(figsize=(12, 4), ncols=5)\n",
    "for ii in range(5):\n",
    "    ax = axes[ii]\n",
    "    imshow(images[ii], ax=ax, normalize=True)\n",
    "\n",
    "plt.show()\n",
    "\n"
   ]
  }
 ],
 "metadata": {
  "kernelspec": {
   "display_name": "Python 3 (ipykernel)",
   "language": "python",
   "name": "python3"
  },
  "language_info": {
   "codemirror_mode": {
    "name": "ipython",
    "version": 3
   },
   "file_extension": ".py",
   "mimetype": "text/x-python",
   "name": "python",
   "nbconvert_exporter": "python",
   "pygments_lexer": "ipython3",
   "version": "3.9.5"
  }
 },
 "nbformat": 4,
 "nbformat_minor": 5
}
